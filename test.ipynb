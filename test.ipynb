{
 "cells": [
  {
   "cell_type": "code",
   "execution_count": null,
   "metadata": {
    "id": "z0Oj93az7L2r"
   },
   "outputs": [],
   "source": [
    "import os\n",
    "import logging\n",
    "import shutil\n",
    "import numpy as np\n",
    "import scipy.linalg as linalg\n",
    "import torch\n",
    "import torch.nn as nn\n",
    "import torch.optim as optim\n",
    "import random\n",
    "import matplotlib.pyplot as plt\n",
    "from tqdm import tqdm"
   ]
  },
  {
   "cell_type": "code",
   "execution_count": null,
   "metadata": {
    "id": "kHoFVYz37h6I"
   },
   "outputs": [],
   "source": [
    "from google.colab import drive\n",
    "drive.mount('/content/drive')"
   ]
  },
  {
   "cell_type": "code",
   "execution_count": null,
   "metadata": {
    "id": "9Q697XRF8GvI"
   },
   "outputs": [],
   "source": [
    "!cp \"drive/MyDrive/Work/RSTA/final_repo/utils.py\" \"./\"\n",
    "!cp \"drive/MyDrive/Work/RSTA/final_repo/data_utils.py\" \"./\"\n",
    "!cp \"drive/MyDrive/Work/RSTA/final_repo/model_utils.py\" \"./\"\n",
    "!cp \"drive/MyDrive/Work/RSTA/final_repo/models.py\" \"./\""
   ]
  },
  {
   "cell_type": "code",
   "execution_count": null,
   "metadata": {
    "id": "Nq-TdjDu7-Vl"
   },
   "outputs": [],
   "source": [
    "from utils import Config, torch2numpy, numpy2torch, get_MAEs\n",
    "from data_utils import load_dataset, pad, unpad, augment_rbf_coefs\n",
    "from models import RBF, SpatialTransform, NAB, RFN\n",
    "from model_utils import sample_independent, sample_dependent"
   ]
  },
  {
   "cell_type": "code",
   "execution_count": null,
   "metadata": {
    "id": "14AOSdmx87bp"
   },
   "outputs": [],
   "source": [
    "work_dir = 'drive/MyDrive/Work/RSTA/final_repo/'\n",
    "dataset = 'noaa_pt' # e.g., 'convdiff', 'noaa_ec', 'noaa_pt', 'sst'"
   ]
  },
  {
   "cell_type": "code",
   "execution_count": null,
   "metadata": {
    "id": "tKBeu6lr8yhi"
   },
   "outputs": [],
   "source": [
    "args = Config(os.path.join(work_dir, 'configs', 'config_{}.txt'.format(dataset)))"
   ]
  },
  {
   "cell_type": "code",
   "execution_count": null,
   "metadata": {
    "id": "SJzCQnra9Jag"
   },
   "outputs": [],
   "source": [
    "args.data_dir = os.path.join(work_dir, args.data_dir)"
   ]
  },
  {
   "cell_type": "code",
   "execution_count": null,
   "metadata": {
    "id": "eMnTiRUW9d-D"
   },
   "outputs": [],
   "source": [
    "savepath = os.path.join(work_dir, 'saved_models/', args.dataset)\n",
    "if not os.path.exists(savepath):\n",
    "    os.makedirs(os.path.join(savepath))"
   ]
  },
  {
   "cell_type": "code",
   "execution_count": null,
   "metadata": {
    "id": "yG_OuSxz-hAo"
   },
   "outputs": [],
   "source": [
    "if torch.cuda.is_available():\n",
    "    torch.set_default_tensor_type('torch.cuda.FloatTensor')\n",
    "else:\n",
    "    torch.set_default_tensor_type('torch.FloatTensor')"
   ]
  },
  {
   "cell_type": "code",
   "execution_count": null,
   "metadata": {
    "id": "R0hNWXIx-j0V"
   },
   "outputs": [],
   "source": [
    "random.seed(args.seed)\n",
    "np.random.seed(args.seed)\n",
    "torch.manual_seed(args.seed)\n",
    "torch.cuda.manual_seed(args.seed)\n",
    "torch.cuda.manual_seed_all(args.seed)\n",
    "torch.backends.cudnn.deterministic = True\n",
    "torch.backends.cudnn.benchmark = False"
   ]
  },
  {
   "cell_type": "code",
   "execution_count": null,
   "metadata": {
    "id": "jC_f-oSrwGX2"
   },
   "outputs": [],
   "source": [
    "train_set, _, test_set, p = load_dataset(args.data_dir, args.dataset)\n",
    "n_nodes = len(p)"
   ]
  },
  {
   "cell_type": "code",
   "execution_count": null,
   "metadata": {
    "id": "zZDrI0towG8O"
   },
   "outputs": [],
   "source": [
    "all_train = []\n",
    "for item in train_set:\n",
    "    all_train.extend([frame for frame in item])\n",
    "all_train = np.array(all_train)"
   ]
  },
  {
   "cell_type": "code",
   "execution_count": null,
   "metadata": {
    "id": "8-l7nG22wJeK"
   },
   "outputs": [],
   "source": [
    "mu, sig = all_train.mean(), all_train.std()"
   ]
  },
  {
   "cell_type": "code",
   "execution_count": null,
   "metadata": {
    "id": "pSzm2NudwVKG"
   },
   "outputs": [],
   "source": [
    "# Get the RBF matrix\n",
    "PHI = np.zeros([n_nodes, n_nodes])\n",
    "ARGS = np.zeros([n_nodes, n_nodes, 4])\n",
    "for i in range(n_nodes):\n",
    "    for j in range(n_nodes):\n",
    "        PHI[i, j] = linalg.norm(p[i] - p[j], axis=-1)\n",
    "        ARGS[i, j, :2] = p[i]\n",
    "        ARGS[i, j, 2:] = p[j]"
   ]
  },
  {
   "cell_type": "code",
   "execution_count": null,
   "metadata": {
    "id": "VP4bZAgJwXDY"
   },
   "outputs": [],
   "source": [
    "PHI = numpy2torch(PHI)\n",
    "ARGS = numpy2torch(ARGS)"
   ]
  },
  {
   "cell_type": "code",
   "execution_count": null,
   "metadata": {
    "id": "MlRf7ExmwZVI"
   },
   "outputs": [],
   "source": [
    "rbf = RBF(eps=args.eps, cls=args.rbf)\n",
    "if torch.cuda.is_available():\n",
    "    rbf = rbf.cuda()"
   ]
  },
  {
   "cell_type": "code",
   "execution_count": null,
   "metadata": {
    "id": "FIkcPeDO9UuI"
   },
   "outputs": [],
   "source": [
    "PHI = rbf(PHI)\n",
    "PHI = PHI.detach()\n",
    "invPHI = numpy2torch(linalg.inv(torch2numpy(PHI)))\n",
    "lhs = torch.matmul(PHI.t(), PHI) + args.lstsq_reg * torch.eye(PHI.shape[1])"
   ]
  },
  {
   "cell_type": "code",
   "execution_count": null,
   "metadata": {
    "id": "_YGvPuPe9ayW"
   },
   "outputs": [],
   "source": [
    "spatial = SpatialTransform(out_dim=args.n_spatial_fts)\n",
    "nab = NAB(in_dim=args.n_spatial_fts)\n",
    "rfn = RFN(in_dim=args.n_levels*args.n_spatial_fts+1)"
   ]
  },
  {
   "cell_type": "code",
   "execution_count": null,
   "metadata": {
    "id": "TNWwBPXS9d5j"
   },
   "outputs": [],
   "source": [
    "if torch.cuda.is_available():\n",
    "    spatial = spatial.cuda()\n",
    "    nab = nab.cuda()\n",
    "    rfn = rfn.cuda()"
   ]
  },
  {
   "cell_type": "code",
   "execution_count": null,
   "metadata": {
    "id": "JthWnVYm-SU9"
   },
   "outputs": [],
   "source": [
    "test_set = [(item - mu) / sig for item in test_set]\n",
    "test_set_padded = pad(test_set, args.max_len, n_nodes)\n",
    "test_set_padded = augment_rbf_coefs(test_set_padded, PHI, lhs)"
   ]
  },
  {
   "cell_type": "code",
   "execution_count": null,
   "metadata": {
    "id": "2-Q9m0gX-ekH"
   },
   "outputs": [],
   "source": [
    "checkpoint = torch.load(os.path.join(savepath, 'spatial-best.pt'))\n",
    "spatial.load_state_dict(checkpoint)\n",
    "spatial = spatial.eval()\n",
    "checkpoint = torch.load(os.path.join(savepath, 'nab-best.pt'))\n",
    "nab.load_state_dict(checkpoint)\n",
    "nab = nab.eval()\n",
    "checkpoint = torch.load(os.path.join(savepath, 'rfn-best.pt'))\n",
    "rfn.load_state_dict(checkpoint)\n",
    "rfn = rfn.eval()"
   ]
  },
  {
   "cell_type": "code",
   "execution_count": null,
   "metadata": {
    "id": "jTGJlOL0-y5X"
   },
   "outputs": [],
   "source": [
    "batch_size = len(test_set)\n",
    "with torch.no_grad():\n",
    "    S = sample_independent(spatial, PHI, invPHI, ARGS, batch_size)\n",
    "    target, pred = sample_dependent(nab, rfn, test_set_padded, S, PHI, lhs, \n",
    "                                    batch_size, n_nodes, \n",
    "                                    args.in_len, args.max_len, \n",
    "                                    args.n_levels, args.n_spatial_fts)"
   ]
  },
  {
   "cell_type": "code",
   "execution_count": null,
   "metadata": {
    "id": "uWgvUmd6-1N2"
   },
   "outputs": [],
   "source": [
    "gt = [torch2numpy(seq) for seq in target]\n",
    "pred = [torch2numpy(seq) for seq in pred]"
   ]
  },
  {
   "cell_type": "code",
   "execution_count": null,
   "metadata": {
    "id": "OYbRBfG7-1tw"
   },
   "outputs": [],
   "source": [
    "MAEs = get_MAEs(gt, pred, args.mae_list, args.in_len)\n",
    "for i in range(len(MAEs)):\n",
    "    print('{}-step MAE: {}'.format(args.mae_list[i], MAEs[i]))"
   ]
  },
  {
   "cell_type": "code",
   "execution_count": null,
   "metadata": {
    "id": "DlTDGlqSNfO0"
   },
   "outputs": [],
   "source": []
  }
 ],
 "metadata": {
  "accelerator": "GPU",
  "colab": {
   "authorship_tag": "ABX9TyNoiMg5fTpkcS4f8SspAThT",
   "collapsed_sections": [],
   "name": "test.ipynb",
   "provenance": []
  },
  "kernelspec": {
   "display_name": "Python 3",
   "language": "python",
   "name": "python3"
  },
  "language_info": {
   "codemirror_mode": {
    "name": "ipython",
    "version": 3
   },
   "file_extension": ".py",
   "mimetype": "text/x-python",
   "name": "python",
   "nbconvert_exporter": "python",
   "pygments_lexer": "ipython3",
   "version": "3.8.5"
  }
 },
 "nbformat": 4,
 "nbformat_minor": 1
}
